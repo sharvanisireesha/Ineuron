{
 "cells": [
  {
   "cell_type": "markdown",
   "id": "3f2987ba",
   "metadata": {},
   "source": [
    "1.What are the two values of the Boolean data type? How do you write them?\n",
    "\n",
    "The two values of the Boolean Data Type are True and False\n",
    "x= True\n",
    "y= False"
   ]
  },
  {
   "cell_type": "markdown",
   "id": "53d5070a",
   "metadata": {},
   "source": [
    "2. What are the three different types of Boolean operators?\n",
    "\n",
    "The Three types of Boolean operators are and,or , not."
   ]
  },
  {
   "cell_type": "markdown",
   "id": "1f9db77b",
   "metadata": {},
   "source": [
    "3. Make a list of each Boolean operator&#39;s truth tables (i.e. every possible combination of Boolean\n",
    "values for the operator and what it evaluate )."
   ]
  },
  {
   "cell_type": "code",
   "execution_count": 3,
   "id": "a67b824d",
   "metadata": {},
   "outputs": [
    {
     "name": "stdout",
     "output_type": "stream",
     "text": [
      "True\n",
      "True\n",
      "False\n",
      "False\n",
      "False\n",
      "True\n",
      "True\n",
      "False\n",
      "True\n",
      "True\n",
      "False\n",
      "False\n",
      "False\n",
      "True\n",
      "True\n"
     ]
    }
   ],
   "source": [
    "x=True\n",
    "y=True\n",
    "\n",
    "print (x and y) #True\n",
    "print (x or y)  #True\n",
    "print( not x)   #False\n",
    "print(not y)    #False\n",
    "\n",
    "x=True\n",
    "y=False\n",
    "print (x and y) #False\n",
    "print (x or y)  #True\n",
    "print(not y)    #True\n",
    " \n",
    "x=False\n",
    "y=True\n",
    "print (x and y) #False\n",
    "print (x or y)  #True\n",
    "print( not x)   #True\n",
    "print(not y)    #False\n",
    "\n",
    "x=False\n",
    "y=False\n",
    "print (x and y)  #False\n",
    "print (x or y)   #False\n",
    "print( not x)   #True  \n",
    "print(not y)    #True\n",
    "\n"
   ]
  },
  {
   "cell_type": "markdown",
   "id": "e425006f",
   "metadata": {},
   "source": [
    "4. What are the values of the following expressions?\n"
   ]
  },
  {
   "cell_type": "code",
   "execution_count": 7,
   "id": "93185cba",
   "metadata": {},
   "outputs": [
    {
     "name": "stdout",
     "output_type": "stream",
     "text": [
      "False\n",
      "False\n",
      "True\n",
      "False\n",
      "False\n",
      "True\n"
     ]
    }
   ],
   "source": [
    "print((5 > 4) and (3 == 5)) #False\n",
    "print(not (5 > 4)) #False\n",
    "print((5 > 4) or (3 == 5)) #True\n",
    "print(not ((5 > 4) or (3 == 5))) #False\n",
    "print((True and True) and (True == False)) #False\n",
    "print((not False) or (not True)) #True"
   ]
  },
  {
   "cell_type": "markdown",
   "id": "78ccd795",
   "metadata": {},
   "source": [
    "5. What are the six comparison operators?\n",
    "\n",
    "The six comparison operators are = Equal,!= Not equal,  > Greater than,  < Less than,  >= Greater than or equal to, <= Less than or equal to."
   ]
  },
  {
   "cell_type": "markdown",
   "id": "26308017",
   "metadata": {},
   "source": [
    "6. How do you tell the difference between the equal to and assignment operators?Describe\n",
    "\n",
    "Equal to operator is a == symbol where as assigment operator is a  = symbol\n",
    "\n",
    "x = 10 #(Assigment)\n",
    "if(x==10): #checking equal to condition\n",
    "    print(f'x is equal to 10')"
   ]
  },
  {
   "cell_type": "markdown",
   "id": "015e10ce",
   "metadata": {},
   "source": [
    "7. Identify the three blocks in this code:\n",
    "spam = 0\n",
    "if spam == 10:\n",
    "    print(&#39;eggs&#39;)\n",
    "elif spam > 5:\n",
    "    print(&#39;bacon&#39;)\n",
    "else:\n",
    "    print(&#39;ham&#39;)\n",
    "    print(&#39;spam&#39;)\n",
    "    print(&#39;spam&#39;)\n",
    "    \n",
    " Three blocks are if elif and else."
   ]
  },
  {
   "cell_type": "markdown",
   "id": "f52e13d3",
   "metadata": {},
   "source": [
    "\n",
    "8. Write code that prints Hello if 1 is stored in spam, prints Howdy if 2 is stored in spam, and prints\n",
    "Greetings! if anything else is stored in spam."
   ]
  },
  {
   "cell_type": "code",
   "execution_count": 3,
   "id": "f2e97ca3",
   "metadata": {},
   "outputs": [
    {
     "name": "stdout",
     "output_type": "stream",
     "text": [
      "Enter any integer0\n",
      "Greetings!\n"
     ]
    }
   ],
   "source": [
    "spam = int(input(\"Enter any integer\"))\n",
    "if(spam ==1):\n",
    "    print(\"Hello\")\n",
    "elif(spam ==2):\n",
    "    print(\"Howdy\")\n",
    "else:\n",
    "    print(\"Greetings!\")"
   ]
  },
  {
   "cell_type": "markdown",
   "id": "a0a2da44",
   "metadata": {},
   "source": [
    "\n",
    "9.If your programme is stuck in an endless loop, what keys you’ll press?\n",
    "\n",
    "Ctrl-C"
   ]
  },
  {
   "cell_type": "markdown",
   "id": "26203e3d",
   "metadata": {},
   "source": [
    "10. How can you tell the difference between break and continue?\n",
    "\n",
    "break statement is used to break/exit of the conditional loop where as continue statement just skips the current iteration and jumps to next iteration.\n"
   ]
  },
  {
   "cell_type": "markdown",
   "id": "bf8ea8fb",
   "metadata": {},
   "source": [
    "11. In a for loop, what is the difference between range(10), range(0, 10), and range(0, 10, 1)?\n",
    "\n",
    " for x in range(10) : # returns numbers 0 to 9\n",
    " for x in range(0,10):# returns numbers 0 to 9 however we can choose the range we like like range(1,20) etc\n",
    " for x in range(0,10,1): # returns numbers 0 to 9 however the 1 is a step value with which we can choose the increment\n",
    "                         like range(0,10,2) returns 2,4,6,8-- steps up by 2"
   ]
  },
  {
   "cell_type": "markdown",
   "id": "0a27cad5",
   "metadata": {},
   "source": [
    "12. Write a short program that prints the numbers 1 to 10 using a for loop. Then write an equivalent\n",
    "program that prints the numbers 1 to 10 using a while loop."
   ]
  },
  {
   "cell_type": "code",
   "execution_count": 7,
   "id": "8d0a55c3",
   "metadata": {},
   "outputs": [
    {
     "name": "stdout",
     "output_type": "stream",
     "text": [
      "1\n",
      "2\n",
      "3\n",
      "4\n",
      "5\n",
      "6\n",
      "7\n",
      "8\n",
      "9\n",
      "10\n"
     ]
    }
   ],
   "source": [
    "for x in range (1,11):\n",
    "    print(x)"
   ]
  },
  {
   "cell_type": "code",
   "execution_count": 8,
   "id": "400eecc3",
   "metadata": {},
   "outputs": [
    {
     "name": "stdout",
     "output_type": "stream",
     "text": [
      "0\n",
      "1\n",
      "2\n",
      "3\n",
      "4\n",
      "5\n",
      "6\n",
      "7\n",
      "8\n",
      "9\n",
      "10\n"
     ]
    }
   ],
   "source": [
    "x=0\n",
    "while(x <=10):\n",
    "    print(x)\n",
    "    x=x+1"
   ]
  },
  {
   "cell_type": "markdown",
   "id": "f7361048",
   "metadata": {},
   "source": [
    "13. If you had a function named bacon() inside a module named spam, how would you call it after\n",
    "importing spam?\n",
    "\n",
    "spam.bacon()"
   ]
  }
 ],
 "metadata": {
  "kernelspec": {
   "display_name": "Python 3 (ipykernel)",
   "language": "python",
   "name": "python3"
  },
  "language_info": {
   "codemirror_mode": {
    "name": "ipython",
    "version": 3
   },
   "file_extension": ".py",
   "mimetype": "text/x-python",
   "name": "python",
   "nbconvert_exporter": "python",
   "pygments_lexer": "ipython3",
   "version": "3.9.7"
  }
 },
 "nbformat": 4,
 "nbformat_minor": 5
}
