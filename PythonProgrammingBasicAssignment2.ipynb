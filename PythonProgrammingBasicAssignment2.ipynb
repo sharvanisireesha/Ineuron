{
 "cells": [
  {
   "cell_type": "markdown",
   "id": "bc53e4f7",
   "metadata": {},
   "source": [
    "1.\tWrite a Python program to convert kilometers to miles?\n",
    "2.\tWrite a Python program to convert Celsius to Fahrenheit?\n",
    "3.\tWrite a Python program to display calendar?\n",
    "4.\tWrite a Python program to solve quadratic equation?\n",
    "5.\tWrite a Python program to swap two variables without temp variable?\n"
   ]
  },
  {
   "cell_type": "code",
   "execution_count": 4,
   "id": "6db6f861",
   "metadata": {},
   "outputs": [
    {
     "name": "stdout",
     "output_type": "stream",
     "text": [
      "please enter the operation to be performed.\n",
      "    The valid choices are KMtoMile,\n",
      "                    CtoF,\n",
      "                    ShowMonth,\n",
      "                    QE,\n",
      "                    swap.  \n",
      "                    \n",
      "swap\n",
      "Enter the num1 for swapping : 7\n",
      "Enter the num2 for swapping : 8\n",
      " The value of  swap operation for  num1 is 8 and num2 is 7\n"
     ]
    }
   ],
   "source": [
    "# Assignment 2\n",
    "import calendar\n",
    "import math\n",
    "\n",
    "\n",
    "def kmToMile(kms):\n",
    "    return 0.6213*kms\n",
    "\n",
    "\n",
    "def CtoF(celcius):\n",
    "    return (celcius * 9/5) + 32\n",
    "\n",
    "\n",
    "def displayCalendar(mm, yy):\n",
    "    return(calendar.month(yy, mm))\n",
    "\n",
    "\n",
    "def quadraticEquation(a, b, c):\n",
    "    # try:\n",
    "    #assert(a != 0)\n",
    "    sol1 = (-b + (math.sqrt(b*b - 4*a*c)))/(2*a)\n",
    "    sol2 = (-b - (math.sqrt(b*b - 4*a*c)))/(2*a)\n",
    "    # except Exception as e:\n",
    "    #print(f'caught the exception {e}')\n",
    "    return sol1, sol2\n",
    "\n",
    "\n",
    "def swap(a, b):\n",
    "    a = a+b\n",
    "    b = a-b\n",
    "    a = a-b\n",
    "    return a, b\n",
    "\n",
    "\n",
    "operation = input(\n",
    "    '''please enter the operation to be performed.\n",
    "    The valid choices are KMtoMile,\n",
    "                    CtoF,\n",
    "                    ShowMonth,\n",
    "                    QE,\n",
    "                    swap.  \n",
    "                    \\n''')\n",
    "\n",
    "if operation == 'swap':\n",
    "    num1 = int(input(\"Enter the num1 for swapping : \"))\n",
    "    num2 = int(input(\"Enter the num2 for swapping : \"))\n",
    "\n",
    "    value1, value2 = swap(num1, num2)\n",
    "    print(\n",
    "        f' The value of  {operation} operation for  num1 is {value1} and num2 is {value2}')\n",
    "elif operation == 'CtoF':\n",
    "    celcius = int(input(\"Enter the  value of Temperature in Celcius degrees \"))\n",
    "\n",
    "    value = CtoF(celcius)\n",
    "    print(f' The value of  {operation} operation is {value} farenheit')\n",
    "elif operation == 'KMtoMile':\n",
    "    kms = int(input(\"Enter the  value of distance in Kilometers \"))\n",
    "\n",
    "    value = kmToMile(kms)\n",
    "    print(f' The value of  {operation} operation is {value} Miles')\n",
    "elif operation == 'ShowMonth':\n",
    "    yy = int(input(\"Enter the year in YY format : \"))\n",
    "    mon = int(input(\"Enter the Month in MM format : \"))\n",
    "    value = displayCalendar(mon, yy)\n",
    "\n",
    "    print(f' The Calendar for the month {mon} is {value}')\n",
    "elif operation == 'QE':\n",
    "    a = int(input(\"Enter the coffients for the Quadratic equation x2 : \"))\n",
    "    b = int(input(\"Enter the coffients for the Quadratic equation x: \"))\n",
    "    c = int(input(\"Enter the constant value : \"))\n",
    "    solution1, solution2 = quadraticEquation(a, b, c)\n",
    "    print(\n",
    "        f' The solutions for the quadratic equations are {solution1} and {solution2}')\n",
    "else:\n",
    "    print(\"please select a valid operation\")\n"
   ]
  }
 ],
 "metadata": {
  "kernelspec": {
   "display_name": "Python 3 (ipykernel)",
   "language": "python",
   "name": "python3"
  },
  "language_info": {
   "codemirror_mode": {
    "name": "ipython",
    "version": 3
   },
   "file_extension": ".py",
   "mimetype": "text/x-python",
   "name": "python",
   "nbconvert_exporter": "python",
   "pygments_lexer": "ipython3",
   "version": "3.9.7"
  }
 },
 "nbformat": 4,
 "nbformat_minor": 5
}
