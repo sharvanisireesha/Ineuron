{
 "cells": [
  {
   "cell_type": "markdown",
   "id": "51895d96",
   "metadata": {},
   "source": [
    "1. To what does a relative path refer?\n",
    "Relative path refers to the path of the file relative to the current directory."
   ]
  },
  {
   "cell_type": "markdown",
   "id": "4c80759a",
   "metadata": {},
   "source": [
    "2. What does an absolute path start with your operating system?\n",
    "An absolute path refers to the complete details needed to locate a file or folder, starting from the root element and ending with the other subdirectories. It is basically the full path."
   ]
  },
  {
   "cell_type": "markdown",
   "id": "5037341d",
   "metadata": {},
   "source": [
    "3. What do the functions os.getcwd() and os.chdir() do?\n",
    "\n",
    "The function os.getcwd() -> gets the current working directory This analagous to . in \n",
    "The function os.chdir(x) -> changes the  current working directory to the  parameter x.This is analagous to cd x."
   ]
  },
  {
   "cell_type": "markdown",
   "id": "843d4f73",
   "metadata": {},
   "source": [
    "4. What are the . and .. folders?\n",
    "\n",
    ". refers to the current directory and .. refers to go to one level up in the directory structure\n",
    " say c:/main/sub is our present working directory\n",
    " . refers to c:/main/sub\n",
    " where as \n",
    " .. refers to c:/main\n"
   ]
  },
  {
   "cell_type": "markdown",
   "id": "6a3677d7",
   "metadata": {},
   "source": [
    "5. In , which part is the dir name, and which part is the base name?\n",
    " \n",
    " The dirname of 'C:\\bacon\\eggs\\spam.txt' is 'c:\\bacon\\eggs.\n",
    "\n",
    "The basename of ''C:\\bacon\\eggs\\spam.txt' is spam.txt."
   ]
  },
  {
   "cell_type": "markdown",
   "id": "0352bbdd",
   "metadata": {},
   "source": [
    "6. What are the three “mode” arguments that can be passed to the open() function?\n",
    "\n",
    "The three mode of operations that are  are passed to open() are read, write and append mode."
   ]
  },
  {
   "cell_type": "markdown",
   "id": "2f795e72",
   "metadata": {},
   "source": [
    "7. What happens if an existing file is opened in write mode?\n",
    "\n",
    "If a already existing file is opened in write mode.The file length is truncated to zero .i.e all the existing data is erased.The stream will be positioned at the begining of the file\n"
   ]
  },
  {
   "cell_type": "markdown",
   "id": "4130e80c",
   "metadata": {},
   "source": [
    "8. How do you tell the difference between read() and readlines()?\n",
    "read() reads the entire contents of the file into a string.  If we give read() an optional argument, which designates the number of characters to read from the file like f.read(15)etc\n",
    "\n",
    "where as \n",
    "readline() reads the next line"
   ]
  },
  {
   "cell_type": "markdown",
   "id": "6031ed6f",
   "metadata": {},
   "source": [
    "9. What data structure does a shelf value resemble?\n",
    "shelve resembles a dictionary like structure"
   ]
  }
 ],
 "metadata": {
  "kernelspec": {
   "display_name": "Python 3 (ipykernel)",
   "language": "python",
   "name": "python3"
  },
  "language_info": {
   "codemirror_mode": {
    "name": "ipython",
    "version": 3
   },
   "file_extension": ".py",
   "mimetype": "text/x-python",
   "name": "python",
   "nbconvert_exporter": "python",
   "pygments_lexer": "ipython3",
   "version": "3.9.7"
  }
 },
 "nbformat": 4,
 "nbformat_minor": 5
}
