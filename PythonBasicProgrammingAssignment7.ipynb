{
 "cells": [
  {
   "cell_type": "markdown",
   "id": "ba021fd1",
   "metadata": {},
   "source": [
    "\t•\tWrite a Python Program to find sum of array?\n",
    "\t•\tWrite a Python Program to find largest element in an array?\n",
    "\t•\tWrite a Python Program for array rotation?\n",
    "\t•\tWrite a Python Program to Split the array and add the first part to the end?\n",
    "\t•\tWrite a Python Program to check if given array is Monotonic?"
   ]
  },
  {
   "cell_type": "code",
   "execution_count": 13,
   "id": "b1eb3d88",
   "metadata": {},
   "outputs": [
    {
     "name": "stdout",
     "output_type": "stream",
     "text": [
      "Please enter the array in a comma separated format\n",
      "34,56,23,45\n",
      "The sum of the  [34, 56, 23, 45] array is 158\n"
     ]
    }
   ],
   "source": [
    "#Python program to find sum of array\n",
    "def arraySum(arr):\n",
    "    sum =0\n",
    "    for i in arr:\n",
    "        sum = sum + i\n",
    "    return sum\n",
    "\n",
    "arrlist = input(\"Please enter the array in a comma separated format\\n\")\n",
    "arrlistStr = arrlist.split(',')\n",
    "\n",
    "numarrlist = []\n",
    "for a in arrlistStr:\n",
    "    numarrlist.append(int(a))\n",
    "    \n",
    "\n",
    "print(f\"The sum of the  {numarrlist} array is {arraySum(numarrlist)}\")"
   ]
  },
  {
   "cell_type": "code",
   "execution_count": 12,
   "id": "ba82da60",
   "metadata": {},
   "outputs": [
    {
     "name": "stdout",
     "output_type": "stream",
     "text": [
      "Please enter the array in a comma separated format\n",
      "23,56,89,45,98,46\n",
      "The largest element of the  [23, 56, 89, 45, 98, 46] array is 98\n"
     ]
    }
   ],
   "source": [
    "#Python program to find the largest element of the array\n",
    "\n",
    "def largeEle(arr):\n",
    "    large= 0\n",
    "    for ele in arr:\n",
    "        if ele > large:\n",
    "            large = ele\n",
    "    return large\n",
    "\n",
    "arrlist = input(\"Please enter the array in a comma separated format\\n\")\n",
    "arrstring = arrlist.split(',')\n",
    "\n",
    "largearrlist = []\n",
    "for a in arrstring:\n",
    "    largearrlist.append(int(a))\n",
    "    \n",
    "\n",
    "print(f\"The largest element of the  {largearrlist} array is {largeEle(largearrlist)}\")"
   ]
  },
  {
   "cell_type": "code",
   "execution_count": 10,
   "id": "fc2acb9e",
   "metadata": {},
   "outputs": [
    {
     "name": "stdout",
     "output_type": "stream",
     "text": [
      "Please enter the array in a comma separated format\n",
      "21,45,77,87,88,65,96\n",
      "Please enter the number  of elements to which array needs to be rorated\n",
      "3\n",
      " The original arrray [21, 45, 77, 87, 88, 65, 96] rotated to 3 elements is [87, 88, 65, 96, 21, 45, 77]\n"
     ]
    }
   ],
   "source": [
    "#Python Program for array rotation\n",
    "\n",
    "\n",
    "#this methods gets the array and the number of elemental positions to be rotated and then rotates the array\n",
    "def rotateArray(arrl,pos):\n",
    "    temp = []\n",
    "    for i in  range(pos):\n",
    "        temp.append(arrl[i])\n",
    "    \n",
    "    arr1  = arrl[pos:]\n",
    "    \n",
    "    arr1.extend(temp)\n",
    "    return arr1\n",
    "    \n",
    "    \n",
    "\n",
    "arr = input(\"Please enter the array in a comma separated format\\n\")\n",
    "vals = int(input(\"Please enter the number  of elements to which array needs to be rorated\\n\"))\n",
    "arrString = arr.split(',')\n",
    "\n",
    "arrlist = []\n",
    "for a in arrString:\n",
    "    arrlist.append(int(a))\n",
    "\n",
    "lenofArray = len(arrlist)\n",
    "    \n",
    "if vals > len(arrlist):\n",
    "    print(\"sorry the no of elements to be rotated cannot exceed the length of the array\")\n",
    "else:\n",
    "    print(f\" The original arrray {arrlist} rotated to {vals} elements is {rotateArray(arrlist,vals)}\")\n",
    "    "
   ]
  },
  {
   "cell_type": "code",
   "execution_count": 9,
   "id": "497d9545",
   "metadata": {},
   "outputs": [
    {
     "name": "stdout",
     "output_type": "stream",
     "text": [
      "Please enter the array  to be split in a comma separated format\n",
      "34,67,78,90,45,34,55\n",
      "[34, 67, 78, 90]\n",
      "[45, 34, 55]\n",
      "The value of the [34, 67, 78, 90, 45, 34, 55] array  after splitting and adding first part to last part is [79, 101, 133, 90]\n"
     ]
    }
   ],
   "source": [
    "#Python Program to Split the array and add the first part to the end\n",
    "\n",
    "arrlist = input(\"Please enter the array  to be split in a comma separated format\\n\")\n",
    "arrstring = arrlist.split(',')\n",
    "\n",
    "splitarrlist = []\n",
    "for a in arrstring:\n",
    "    splitarrlist.append(int(a))\n",
    "    \n",
    "lengtharray = len(splitarrlist)\n",
    "splitlen =  round(lengtharray/2)\n",
    "\n",
    "splitarrlist1 = splitarrlist[0:splitlen]\n",
    "splitarrlist2 = splitarrlist[splitlen:]\n",
    "\n",
    "print(splitarrlist1)\n",
    "print(splitarrlist2)\n",
    "\n",
    "joinlist= []\n",
    "\n",
    "\n",
    "\n",
    "if len(splitarrlist1) >len(splitarrlist2):\n",
    "    splitarrlist2.append(0)\n",
    "elif len(splitarrlist2) >len(splitarrlist1):\n",
    "    splitarrlist1.append(0)\n",
    "    \n",
    "\n",
    "    \n",
    "for i in range(len(splitarrlist1)):\n",
    "    \n",
    "    joinlist.append(splitarrlist1[i] + splitarrlist2[i])\n",
    "    \n",
    "\n",
    "print(f\"The value of the {splitarrlist} array  after splitting and adding first part to last part is {joinlist}\")\n"
   ]
  },
  {
   "cell_type": "code",
   "execution_count": 8,
   "id": "4d1ac69a",
   "metadata": {},
   "outputs": [
    {
     "name": "stdout",
     "output_type": "stream",
     "text": [
      "Please enter the array  to be checked for monotonic behaviour in a comma separated format\n",
      "2,3,1,5,7,6\n",
      "checking for increasing monocity\n",
      "checking for decreasing monocity\n",
      "checking for increasing monocity\n",
      "checking for increasing monocity\n",
      "checking for decreasing monocity\n",
      "The [2, 3, 1, 5, 7, 6] is not monotonic\n"
     ]
    }
   ],
   "source": [
    "# Python Program to check if given array is Monotonic\n",
    "\n",
    "arrlist = input(\"Please enter the array  to be checked for monotonic behaviour in a comma separated format\\n\")\n",
    "arrstring = arrlist.split(',')\n",
    "\n",
    "monotonicarrlist = []\n",
    "for a in arrstring:\n",
    "    monotonicarrlist.append(int(a))\n",
    "    \n",
    "arrlen = len(monotonicarrlist)\n",
    "monotonicity = False\n",
    "increasing = False\n",
    "decreasing = False\n",
    "\n",
    "for i in range(arrlen):\n",
    "    if  i != (arrlen -1):\n",
    "        if monotonicarrlist[i] < monotonicarrlist[i+1]:\n",
    "            print(\"checking for increasing monocity\")\n",
    "            monotonicity = True\n",
    "            increasing = True\n",
    "        elif monotonicarrlist[i] > monotonicarrlist[i+1]:\n",
    "            print(\"checking for decreasing monocity\")\n",
    "            monotonicity = True\n",
    "            decreasing = True\n",
    "        \n",
    "        \n",
    "if monotonicity and increasing and decreasing:\n",
    "    print(f\"The {monotonicarrlist} is not monotonic\")\n",
    "    \n",
    "elif monotonicity and increasing and decreasing == False:\n",
    "     print(f\"The {monotonicarrlist} is increasing Monotonic\")\n",
    "elif monotonicity and decreasing and increasing == False:\n",
    "     print(f\"The {monotonicarrlist} is decreasing Monotonic\")"
   ]
  },
  {
   "cell_type": "code",
   "execution_count": null,
   "id": "612d9b63",
   "metadata": {},
   "outputs": [],
   "source": []
  }
 ],
 "metadata": {
  "kernelspec": {
   "display_name": "Python 3 (ipykernel)",
   "language": "python",
   "name": "python3"
  },
  "language_info": {
   "codemirror_mode": {
    "name": "ipython",
    "version": 3
   },
   "file_extension": ".py",
   "mimetype": "text/x-python",
   "name": "python",
   "nbconvert_exporter": "python",
   "pygments_lexer": "ipython3",
   "version": "3.9.7"
  }
 },
 "nbformat": 4,
 "nbformat_minor": 5
}
