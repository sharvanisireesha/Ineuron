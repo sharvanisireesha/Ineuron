{
 "cells": [
  {
   "cell_type": "markdown",
   "id": "76876644",
   "metadata": {},
   "source": [
    "#1. In the below elements which of them are values or an expression? eg:- values can be\n",
    "integer or string and expressions will be mathematical operators.\n",
    "*\n",
    "&#39;hello&#39;\n",
    "-87.8\n",
    "-\n",
    "/\n",
    "+\n",
    "6\n",
    "\n",
    "Ans:- values are &#39;hello&#39; -87.8 ,6 and expressions are *,-,/,+"
   ]
  },
  {
   "cell_type": "markdown",
   "id": "8cfdb936",
   "metadata": {},
   "source": [
    "2.What is the difference between string and variable?\n",
    "\n",
    "A variable is the name of the location in the primary memory of computer as chosen by programmer\n",
    "A variable can store everything from strings to numbers.\n",
    "A string specifically stores only sequence of data inside the quotes assigned to a string.String is a type of variable."
   ]
  },
  {
   "cell_type": "markdown",
   "id": "abfa8015",
   "metadata": {},
   "source": [
    "3. Describe three different data types.\n",
    "Binary Types: memoryview, bytearray, bytes.\n",
    "Boolean Type: bool.\n",
    "Set Types: frozenset, set.\n",
    "Mapping Type: dict.\n",
    "Sequence Types: range, tuple, list.\n",
    "Numeric Types: complex, float, int.\n",
    "Text Type: str."
   ]
  },
  {
   "cell_type": "markdown",
   "id": "bf3b3e93",
   "metadata": {},
   "source": [
    "4. What is an expression made up of? What do all expressions do?\n",
    "\n",
    "An expression is a combination of values, variables, operators, and calls to functions. Expressions are evaluated by  interpreter and  final result is displayed."
   ]
  },
  {
   "cell_type": "markdown",
   "id": "9b6bad8c",
   "metadata": {},
   "source": [
    "5. This assignment statements, like spam = 10. What is the difference between an expression and a statement?\n",
    "\n",
    "An statement does something like assignment statements and print statements.They necessarily may or maynot return a value,where as an expression is a a combination of values, variables, operators, and calls to functions and they evaluate to a value.Expression are types of statements that boil down to a result."
   ]
  },
  {
   "cell_type": "markdown",
   "id": "936214c5",
   "metadata": {},
   "source": [
    "6. After running the following code, what does the variable bacon contain?\n",
    "bacon = 22\n",
    "bacon + 1\n",
    "\n",
    "23\n"
   ]
  },
  {
   "cell_type": "code",
   "execution_count": 4,
   "id": "ec454e29",
   "metadata": {},
   "outputs": [
    {
     "data": {
      "text/plain": [
       "23"
      ]
     },
     "execution_count": 4,
     "metadata": {},
     "output_type": "execute_result"
    }
   ],
   "source": [
    "bacon = 22\n",
    "bacon + 1"
   ]
  },
  {
   "cell_type": "markdown",
   "id": "ee3ea665",
   "metadata": {},
   "source": [
    "7. What should the values of the following two terms be?\n",
    "'spam' + 'spamspam'\n",
    "'spam' * 3"
   ]
  },
  {
   "cell_type": "code",
   "execution_count": 2,
   "id": "860328ef",
   "metadata": {},
   "outputs": [
    {
     "data": {
      "text/plain": [
       "'spamspamspam'"
      ]
     },
     "execution_count": 2,
     "metadata": {},
     "output_type": "execute_result"
    }
   ],
   "source": [
    "'spam' + 'spamspam'\n"
   ]
  },
  {
   "cell_type": "code",
   "execution_count": 3,
   "id": "4135d7c4",
   "metadata": {},
   "outputs": [
    {
     "data": {
      "text/plain": [
       "'spamspamspam'"
      ]
     },
     "execution_count": 3,
     "metadata": {},
     "output_type": "execute_result"
    }
   ],
   "source": [
    "'spam' * 3"
   ]
  },
  {
   "cell_type": "markdown",
   "id": "9915ead5",
   "metadata": {},
   "source": [
    "8. Why is eggs a valid variable name while 100 is invalid?\n",
    "A varable name can never start with  integer.It is invalid. It has to start with alphabets."
   ]
  },
  {
   "cell_type": "markdown",
   "id": "10d68cc5",
   "metadata": {},
   "source": [
    "9. What three functions can be used to get the integer, floating-point number, or string version of a value?\n",
    "casting functions int(value),float(value),str(value)"
   ]
  },
  {
   "cell_type": "markdown",
   "id": "2905a1f3",
   "metadata": {},
   "source": [
    "10. Why does this expression cause an error? How can you fix it?\n",
    "'I have eaten ' + 99 + ' burritos.'"
   ]
  },
  {
   "cell_type": "code",
   "execution_count": 5,
   "id": "1cff9db2",
   "metadata": {},
   "outputs": [
    {
     "data": {
      "text/plain": [
       "'I have eaten 99 burritos.'"
      ]
     },
     "execution_count": 5,
     "metadata": {},
     "output_type": "execute_result"
    }
   ],
   "source": [
    "'I have eaten ' + str(99) + ' burritos.'"
   ]
  }
 ],
 "metadata": {
  "kernelspec": {
   "display_name": "Python 3 (ipykernel)",
   "language": "python",
   "name": "python3"
  },
  "language_info": {
   "codemirror_mode": {
    "name": "ipython",
    "version": 3
   },
   "file_extension": ".py",
   "mimetype": "text/x-python",
   "name": "python",
   "nbconvert_exporter": "python",
   "pygments_lexer": "ipython3",
   "version": "3.9.7"
  }
 },
 "nbformat": 4,
 "nbformat_minor": 5
}
