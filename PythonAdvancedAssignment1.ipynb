{
 "cells": [
  {
   "cell_type": "markdown",
   "id": "3f1441ac",
   "metadata": {},
   "source": [
    "Q1. What is the purpose of Python's OOP?\n",
    " OOP  is a programming paradigm that uses objects and classes in programming. It aims to implement real-world entities like inheritance, polymorphisms, encapsulation, etc. \n",
    " \n",
    " Program that is implemented using OOPS is clear in it's program structure,clean code that is easy to understand and highly reusable..\n"
   ]
  },
  {
   "cell_type": "markdown",
   "id": "7254aa6e",
   "metadata": {},
   "source": [
    "Q2. Where does an inheritance search look for an attribute?\n",
    "It first looks at the current class and then looks the in the  parents class."
   ]
  },
  {
   "cell_type": "markdown",
   "id": "b0ded7eb",
   "metadata": {},
   "source": [
    "Q3. How do you distinguish between a class object and an instance object?\n",
    "\n",
    "The class object doesnot need to be used with instantiation. We can directly refer to it using classname.\n",
    "\n",
    "where are an instance object needs to be instantiated  first usig objectname = classname(). \n",
    " "
   ]
  },
  {
   "cell_type": "markdown",
   "id": "58adc4cb",
   "metadata": {},
   "source": [
    "Q4. What makes the first argument in a class’s method function special?\n",
    "\n",
    "self argument inside a class is the first agrument in a class' method .self is very special and is used to represent the entire  instance of the class. Using self, we can access the attributes and methods of the class in python. It binds the attributes with the given arguments."
   ]
  },
  {
   "cell_type": "markdown",
   "id": "de5940f4",
   "metadata": {},
   "source": [
    "Q5. What is the purpose of the __init__ method?\n",
    "\n",
    "__init__ is short for initialization. It is a constructor which gets called when you make an instance of the class.\n",
    "It initalizes the object attributes.\n",
    "\n"
   ]
  },
  {
   "cell_type": "markdown",
   "id": "d32ca5fc",
   "metadata": {},
   "source": [
    "\n",
    "Q6. What is the process for creating a class instance?\n",
    "\n",
    "object = class_name()"
   ]
  },
  {
   "cell_type": "markdown",
   "id": "e3aa17cd",
   "metadata": {},
   "source": [
    "Q7. What is the process for creating a class?\n",
    "\n",
    "class Class_name():"
   ]
  },
  {
   "cell_type": "markdown",
   "id": "f1951f11",
   "metadata": {},
   "source": [
    "Q8. How would you define the superclasses of a class?\n",
    "We can define the superclass using a super() function\n",
    "The super() function returns an object that represents the parent class."
   ]
  }
 ],
 "metadata": {
  "kernelspec": {
   "display_name": "Python 3 (ipykernel)",
   "language": "python",
   "name": "python3"
  },
  "language_info": {
   "codemirror_mode": {
    "name": "ipython",
    "version": 3
   },
   "file_extension": ".py",
   "mimetype": "text/x-python",
   "name": "python",
   "nbconvert_exporter": "python",
   "pygments_lexer": "ipython3",
   "version": "3.9.7"
  }
 },
 "nbformat": 4,
 "nbformat_minor": 5
}
