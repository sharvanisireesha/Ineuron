{
 "cells": [
  {
   "cell_type": "markdown",
   "id": "281c4019",
   "metadata": {},
   "source": [
    "1. What does an empty dictionary's code look like?\n",
    "\n",
    "{}\n"
   ]
  },
  {
   "cell_type": "markdown",
   "id": "7eae4308",
   "metadata": {},
   "source": [
    "2. What is the value of a dictionary value with the key 'foo' and the value 42?\n",
    "\n",
    "{foo:42}\n"
   ]
  },
  {
   "cell_type": "markdown",
   "id": "21024282",
   "metadata": {},
   "source": [
    "3. What is the most significant distinction between a dictionary and a list?\n",
    "Dict stores values based on keys and lists stores values based on index.\n"
   ]
  },
  {
   "cell_type": "markdown",
   "id": "f88fa10b",
   "metadata": {},
   "source": [
    "4. What happens if you try to access spam['foo'] if spam is {'bar': 100}?\n",
    " \n",
    " We get a key error."
   ]
  },
  {
   "cell_type": "code",
   "execution_count": 1,
   "id": "246e87b0",
   "metadata": {},
   "outputs": [
    {
     "ename": "KeyError",
     "evalue": "'foo'",
     "output_type": "error",
     "traceback": [
      "\u001b[0;31m---------------------------------------------------------------------------\u001b[0m",
      "\u001b[0;31mKeyError\u001b[0m                                  Traceback (most recent call last)",
      "\u001b[0;32m/var/folders/f0/8mzhxbd91q360spvx_366kqc0000gn/T/ipykernel_736/2938449785.py\u001b[0m in \u001b[0;36m<module>\u001b[0;34m\u001b[0m\n\u001b[1;32m      1\u001b[0m \u001b[0mspam\u001b[0m \u001b[0;34m=\u001b[0m \u001b[0;34m{\u001b[0m\u001b[0;34m'bar'\u001b[0m \u001b[0;34m:\u001b[0m\u001b[0;36m100\u001b[0m\u001b[0;34m}\u001b[0m\u001b[0;34m\u001b[0m\u001b[0;34m\u001b[0m\u001b[0m\n\u001b[0;32m----> 2\u001b[0;31m \u001b[0mspam\u001b[0m\u001b[0;34m[\u001b[0m\u001b[0;34m'foo'\u001b[0m\u001b[0;34m]\u001b[0m\u001b[0;34m\u001b[0m\u001b[0;34m\u001b[0m\u001b[0m\n\u001b[0m",
      "\u001b[0;31mKeyError\u001b[0m: 'foo'"
     ]
    }
   ],
   "source": [
    "spam = {'bar' :100}\n",
    "spam['foo']"
   ]
  },
  {
   "cell_type": "markdown",
   "id": "90aa9e0f",
   "metadata": {},
   "source": [
    "5. If a dictionary is stored in spam, what is the difference between the expressions 'cat' in spam and 'cat' in spam.keys()?\n",
    "spam.keys loops throughh the keys and prints their keys\n"
   ]
  },
  {
   "cell_type": "code",
   "execution_count": 7,
   "id": "68aaa0f0",
   "metadata": {},
   "outputs": [
    {
     "name": "stdout",
     "output_type": "stream",
     "text": [
      "100\n"
     ]
    }
   ],
   "source": [
    "for cat in spam:\n",
    "    print(spam[cat])\n"
   ]
  },
  {
   "cell_type": "code",
   "execution_count": 8,
   "id": "e65b94cb",
   "metadata": {},
   "outputs": [
    {
     "name": "stdout",
     "output_type": "stream",
     "text": [
      "100\n"
     ]
    }
   ],
   "source": [
    "for cat in spam.keys():\n",
    "    print(spam[cat])"
   ]
  },
  {
   "cell_type": "markdown",
   "id": "a8b2a6ae",
   "metadata": {},
   "source": [
    "6. If a dictionary is stored in spam, what is the difference between the expressions 'cat' in spam and 'cat' in spam.values()?\n",
    "spam.values() loops throughh the values and prints the values"
   ]
  },
  {
   "cell_type": "code",
   "execution_count": 9,
   "id": "c7a6fb3e",
   "metadata": {},
   "outputs": [
    {
     "name": "stdout",
     "output_type": "stream",
     "text": [
      "100\n"
     ]
    }
   ],
   "source": [
    "for cat in spam.values():\n",
    "    print(cat)"
   ]
  },
  {
   "cell_type": "markdown",
   "id": "b9d44e04",
   "metadata": {},
   "source": [
    "7. What is a shortcut for the following code?\n",
    "if 'color' not in spam:\n",
    "spam['color'] = 'black'\n",
    "\n"
   ]
  },
  {
   "cell_type": "code",
   "execution_count": null,
   "id": "0efe566e",
   "metadata": {},
   "outputs": [],
   "source": [
    "spam [color]=black if color not in spam"
   ]
  },
  {
   "cell_type": "markdown",
   "id": "6739d363",
   "metadata": {},
   "source": [
    "8. How do you \"pretty print\" dictionary values using which module and function?\n",
    "\n",
    "we can pretty print dictionary values  using pprint module and pprint function\n",
    "\n",
    "pprint.pprint(spam)"
   ]
  }
 ],
 "metadata": {
  "kernelspec": {
   "display_name": "Python 3 (ipykernel)",
   "language": "python",
   "name": "python3"
  },
  "language_info": {
   "codemirror_mode": {
    "name": "ipython",
    "version": 3
   },
   "file_extension": ".py",
   "mimetype": "text/x-python",
   "name": "python",
   "nbconvert_exporter": "python",
   "pygments_lexer": "ipython3",
   "version": "3.9.7"
  }
 },
 "nbformat": 4,
 "nbformat_minor": 5
}
