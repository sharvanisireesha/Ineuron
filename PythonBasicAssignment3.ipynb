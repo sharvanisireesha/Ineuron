{
 "cells": [
  {
   "cell_type": "markdown",
   "id": "02a445a6",
   "metadata": {},
   "source": [
    "1. Why are functions advantageous to have in your programs?\n",
    "\n",
    "They contain reusable code. so They can be written once and be reused any number times.\n",
    "They make code easy to maintain and readable."
   ]
  },
  {
   "cell_type": "markdown",
   "id": "4b3e3109",
   "metadata": {},
   "source": [
    "2. When does the code in a function run: when it&#39;s specified or when it&#39;s called?\n",
    "\n",
    "It runs when the function is called"
   ]
  },
  {
   "cell_type": "markdown",
   "id": "9b2141f8",
   "metadata": {},
   "source": [
    "3. What statement creates a function?\n",
    "\n",
    "def funcname():"
   ]
  },
  {
   "cell_type": "markdown",
   "id": "300e4a2f",
   "metadata": {},
   "source": [
    "4. What is the difference between a function and a function call?\n",
    "function is a piece of reusable code that is written.\n",
    "function call is  a call to the funcion. The function call executes the function."
   ]
  },
  {
   "cell_type": "markdown",
   "id": "312a2efd",
   "metadata": {},
   "source": [
    "5. How many global scopes are there in a Python program? How many local scopes?\n",
    "\n",
    "There's only one global Python scope per program execution. This scope remains in existence until the program terminates and all its names are forgotten.The local scope is dependent on the program."
   ]
  },
  {
   "cell_type": "markdown",
   "id": "464e31a9",
   "metadata": {},
   "source": [
    "\n",
    "6. What happens to variables in a local scope when the function call returns?\n",
    "\n",
    "The scope is lost after function call returns. The scope of the varaible stays inside the function.once the function gets executed the The scope is not retained outside the function and is lost."
   ]
  },
  {
   "cell_type": "markdown",
   "id": "8801b6f1",
   "metadata": {},
   "source": [
    "7. What is the concept of a return value? Is it possible to have a return value in an expression?\n",
    "\n",
    "Yes.Every function can return an value."
   ]
  },
  {
   "cell_type": "markdown",
   "id": "ca336a5f",
   "metadata": {},
   "source": [
    "8. If a function does not have a return statement, what is the return value of a call to that function?\n",
    "\n",
    "It returns a none."
   ]
  },
  {
   "cell_type": "markdown",
   "id": "db08918e",
   "metadata": {},
   "source": [
    "9. How do you make a function variable refer to the global variable?\n",
    "\n",
    "Use the keyword global"
   ]
  },
  {
   "cell_type": "markdown",
   "id": "1b591618",
   "metadata": {},
   "source": [
    "10. What is the data type of None?\n",
    " None Type"
   ]
  },
  {
   "cell_type": "markdown",
   "id": "26ac7a4f",
   "metadata": {},
   "source": [
    "11. What does the sentence import areallyourpetsnamederic do?\n",
    "\n",
    "It imports the module  areallyourpetsnamederic"
   ]
  },
  {
   "cell_type": "markdown",
   "id": "45b52e21",
   "metadata": {},
   "source": [
    "\n",
    "12. If you had a bacon() feature in a spam module, what would you call it after importing spam?\n",
    "\n",
    "spam.bacon()\n"
   ]
  },
  {
   "cell_type": "markdown",
   "id": "291149e9",
   "metadata": {},
   "source": [
    "13. What can you do to save a programme from crashing if it encounters an error?\n",
    "\n",
    "send an interrrupt signal to kernel using ctl-c"
   ]
  },
  {
   "cell_type": "markdown",
   "id": "3f6bd89f",
   "metadata": {},
   "source": [
    "14.What is the purpose of the try clause? What is the purpose of the except clause?\n",
    "\n",
    "The purpose of try clause is to catch any errors.The purpose of except clause is to handle the errors."
   ]
  }
 ],
 "metadata": {
  "kernelspec": {
   "display_name": "Python 3 (ipykernel)",
   "language": "python",
   "name": "python3"
  },
  "language_info": {
   "codemirror_mode": {
    "name": "ipython",
    "version": 3
   },
   "file_extension": ".py",
   "mimetype": "text/x-python",
   "name": "python",
   "nbconvert_exporter": "python",
   "pygments_lexer": "ipython3",
   "version": "3.9.7"
  }
 },
 "nbformat": 4,
 "nbformat_minor": 5
}
