{
 "cells": [
  {
   "cell_type": "markdown",
   "id": "d299a983",
   "metadata": {},
   "source": [
    "1. What exactly is []?\n",
    "It is an empty list declaration\n",
    "say list1 = [] declares an empty list\n"
   ]
  },
  {
   "cell_type": "code",
   "execution_count": 2,
   "id": "4a25f268",
   "metadata": {},
   "outputs": [
    {
     "data": {
      "text/plain": [
       "[2, 4, 'hello', 6, 8, 10]"
      ]
     },
     "execution_count": 2,
     "metadata": {},
     "output_type": "execute_result"
    }
   ],
   "source": [
    "#2. In a list of values stored in a variable called spam, how would you assign the value 'hello' \n",
    "#as the third value? (Assume [2, 4, 6, 8, 10] are in spam.)\n",
    "\n",
    "spam = [2,4,6,8,10]\n",
    "spam.insert(2,\"hello\")\n",
    "spam"
   ]
  },
  {
   "cell_type": "code",
   "execution_count": 7,
   "id": "25fdb870",
   "metadata": {},
   "outputs": [
    {
     "data": {
      "text/plain": [
       "[2, 4, 'hello', 6, 8, 10, ['a', 'b', 'c', 'd']]"
      ]
     },
     "execution_count": 7,
     "metadata": {},
     "output_type": "execute_result"
    }
   ],
   "source": [
    "#Let's pretend the spam includes the list ['a', 'b', 'c', 'd'] for the next three queries.\n",
    "spam"
   ]
  },
  {
   "cell_type": "code",
   "execution_count": 6,
   "id": "e082d697",
   "metadata": {},
   "outputs": [
    {
     "data": {
      "text/plain": [
       "[2, 4, 'hello', 6, 8, 10, ['a', 'b', 'c', 'd']]"
      ]
     },
     "execution_count": 6,
     "metadata": {},
     "output_type": "execute_result"
    }
   ],
   "source": [
    "spam"
   ]
  },
  {
   "cell_type": "code",
   "execution_count": 10,
   "id": "a6d5c7ad",
   "metadata": {},
   "outputs": [
    {
     "data": {
      "text/plain": [
       "6"
      ]
     },
     "execution_count": 10,
     "metadata": {},
     "output_type": "execute_result"
    }
   ],
   "source": [
    "#3. What is the value of \n",
    "\n",
    "spam[int((int('3' * 2) / 11))]"
   ]
  },
  {
   "cell_type": "code",
   "execution_count": 11,
   "id": "80568877",
   "metadata": {},
   "outputs": [
    {
     "data": {
      "text/plain": [
       "['a', 'b', 'c', 'd']"
      ]
     },
     "execution_count": 11,
     "metadata": {},
     "output_type": "execute_result"
    }
   ],
   "source": [
    "#4. What is the value of \n",
    "\n",
    "spam[-1]\n",
    "\n"
   ]
  },
  {
   "cell_type": "code",
   "execution_count": 12,
   "id": "339ddd5e",
   "metadata": {},
   "outputs": [
    {
     "data": {
      "text/plain": [
       "[2, 4]"
      ]
     },
     "execution_count": 12,
     "metadata": {},
     "output_type": "execute_result"
    }
   ],
   "source": [
    "#5. What is the value of \n",
    "\n",
    "spam[:2]"
   ]
  },
  {
   "cell_type": "code",
   "execution_count": 17,
   "id": "bd83f997",
   "metadata": {},
   "outputs": [
    {
     "data": {
      "text/plain": [
       "[3.14, 'cat', 11, 'cat', True]"
      ]
     },
     "execution_count": 17,
     "metadata": {},
     "output_type": "execute_result"
    }
   ],
   "source": [
    "#Let's pretend bacon has the list [3.14, 'cat,' 11, 'cat,' True] for the next three questions.\n",
    "bacon =[3.14, 'cat', 11, 'cat',True]\n",
    "bacon"
   ]
  },
  {
   "cell_type": "code",
   "execution_count": 18,
   "id": "66c2a702",
   "metadata": {},
   "outputs": [
    {
     "data": {
      "text/plain": [
       "1"
      ]
     },
     "execution_count": 18,
     "metadata": {},
     "output_type": "execute_result"
    }
   ],
   "source": [
    "#6. What is the value of \n",
    "bacon.index('cat')\n"
   ]
  },
  {
   "cell_type": "code",
   "execution_count": 25,
   "id": "a420bf22",
   "metadata": {},
   "outputs": [
    {
     "data": {
      "text/plain": [
       "[3.14, 'cat', 11, 'cat', True, 99]"
      ]
     },
     "execution_count": 25,
     "metadata": {},
     "output_type": "execute_result"
    }
   ],
   "source": [
    "#7. How does bacon.append(99) change the look of the list value in bacon?\n",
    "bacon.append(99)\n",
    "\n",
    "bacon"
   ]
  },
  {
   "cell_type": "code",
   "execution_count": 26,
   "id": "f144165f",
   "metadata": {},
   "outputs": [
    {
     "data": {
      "text/plain": [
       "[3.14, 11, 'cat', True, 99]"
      ]
     },
     "execution_count": 26,
     "metadata": {},
     "output_type": "execute_result"
    }
   ],
   "source": [
    "#8. How does bacon.remove('cat') change the look of the list in bacon?\n",
    "bacon.remove('cat')\n",
    "bacon"
   ]
  },
  {
   "cell_type": "code",
   "execution_count": 27,
   "id": "aae6405d",
   "metadata": {},
   "outputs": [
    {
     "name": "stdout",
     "output_type": "stream",
     "text": [
      "[2, 5, 6, 8, 6, 3, 7, 5]\n",
      "[2, 5, 6, 8, 2, 5, 6, 8, 2, 5, 6, 8]\n"
     ]
    }
   ],
   "source": [
    "#9. What are the list concatenation and list replication operators?\n",
    "\n",
    "#list concatenation operator is +. It is used to concatinate 2 lists\n",
    "#list replication operaor is *. It is used to replicate same list multiple times\n",
    "\n",
    "list1 =[2,5,6,8]\n",
    "list2 =[6,3,7,5]\n",
    "\n",
    "print(list1+list2)\n",
    "\n",
    "print(list1*3)\n"
   ]
  },
  {
   "cell_type": "markdown",
   "id": "14619a2d",
   "metadata": {},
   "source": [
    "10. What is difference between the list methods append() and insert()?\n",
    "append(element) inserts the element at the end(last index) of the list.\n",
    "insert(index, element) inserts element at the specified  index of the list\n"
   ]
  },
  {
   "cell_type": "markdown",
   "id": "26a3c137",
   "metadata": {},
   "source": [
    "11. What are the two methods for removing items from a list?\n",
    "\n",
    "The two methods are remove() and pop()"
   ]
  },
  {
   "cell_type": "markdown",
   "id": "5de28687",
   "metadata": {},
   "source": [
    "12. Describe how list values and string values are identical.\n",
    "\n",
    "List and string both are used to store value /data and both are sequence. string are used to store character in single or double quotes. list are mutable where as string are immutable."
   ]
  },
  {
   "cell_type": "markdown",
   "id": "a4b59140",
   "metadata": {},
   "source": [
    "13. What's the difference between tuples and lists?\n",
    "lists are mutable where as tuples are immutable"
   ]
  },
  {
   "cell_type": "code",
   "execution_count": 29,
   "id": "3537c90b",
   "metadata": {},
   "outputs": [
    {
     "data": {
      "text/plain": [
       "42"
      ]
     },
     "execution_count": 29,
     "metadata": {},
     "output_type": "execute_result"
    }
   ],
   "source": [
    "\n",
    "#14. How do you type a tuple value that only contains the integer 42?\n",
    "\n",
    "x = (42)\n",
    "x\n"
   ]
  },
  {
   "cell_type": "code",
   "execution_count": 31,
   "id": "d7f064a5",
   "metadata": {},
   "outputs": [
    {
     "name": "stdout",
     "output_type": "stream",
     "text": [
      "list values tuple form is (5, 6, 7, 3, 'ant')\n",
      "tuple values list form is [5, 6, 7, 3, 'ant']\n"
     ]
    }
   ],
   "source": [
    "#15. How do you get a list value's tuple form? How do you get a tuple value's list form?\n",
    "\n",
    "l = [5,6,7,3,\"ant\"]\n",
    "\n",
    "t= tuple(l)\n",
    "print(\"list values tuple form is\", t)\n",
    "\n",
    "list2 = list(t)\n",
    "print(\"tuple values list form is\", list2)\n"
   ]
  },
  {
   "cell_type": "markdown",
   "id": "4dd47c1c",
   "metadata": {},
   "source": [
    "16. Variables that \"contain\" list values are not necessarily lists themselves. Instead, what do they contain?\n",
    "\n",
    "\n",
    "They can be dicts or tuples.\n"
   ]
  },
  {
   "cell_type": "markdown",
   "id": "07dafc97",
   "metadata": {},
   "source": [
    "17. How do you distinguish between copy.copy() and copy.deepcopy()?\n",
    "\n",
    "A shallow copy constructs a new compound object and then (to the extent possible) inserts references into it to the objects found in the original. A deep copy constructs a new compound object and then, recursively, inserts copies into it of the objects found in the original."
   ]
  }
 ],
 "metadata": {
  "kernelspec": {
   "display_name": "Python 3 (ipykernel)",
   "language": "python",
   "name": "python3"
  },
  "language_info": {
   "codemirror_mode": {
    "name": "ipython",
    "version": 3
   },
   "file_extension": ".py",
   "mimetype": "text/x-python",
   "name": "python",
   "nbconvert_exporter": "python",
   "pygments_lexer": "ipython3",
   "version": "3.9.7"
  }
 },
 "nbformat": 4,
 "nbformat_minor": 5
}
