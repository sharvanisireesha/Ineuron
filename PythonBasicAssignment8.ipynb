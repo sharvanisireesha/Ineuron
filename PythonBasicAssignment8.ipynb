{
 "cells": [
  {
   "cell_type": "markdown",
   "id": "607d8df3",
   "metadata": {},
   "source": [
    "1. Is the Python Standard Library included with PyInputPlus?\n",
    "Python standard library is not included with pyinputplus it has to be installed using pip install pyinputplus."
   ]
  },
  {
   "cell_type": "markdown",
   "id": "41557a52",
   "metadata": {},
   "source": [
    "2. Why is PyInputPlus commonly imported with import pyinputplus as pyip?\n",
    "\n",
    "It is imported as pyip because it is shorter and easy to refer to the module functions.\n"
   ]
  },
  {
   "cell_type": "markdown",
   "id": "d1dc1859",
   "metadata": {},
   "source": [
    "3. How do you distinguish between inputInt() and inputFloat()?\n",
    "\n",
    "inputInt() accepts an int value where as inputFloat() accepts a Float value"
   ]
  },
  {
   "cell_type": "markdown",
   "id": "1448d94f",
   "metadata": {},
   "source": [
    "4. Using PyInputPlus, how do you ensure that the user enters a whole number between 0 and 99?\n",
    "\n",
    "valnum = pyip.InputNum(\"Enter Num:\",min=0,max= 99)"
   ]
  },
  {
   "cell_type": "markdown",
   "id": "59886734",
   "metadata": {},
   "source": [
    "5. What is transferred to the keyword arguments allowRegexes and blockRegexes?\n",
    "A list of regular expressions can be passed as keyword arguments allowRegexes and blockRegexes to determine what to accept or to reject for the input."
   ]
  },
  {
   "cell_type": "markdown",
   "id": "5c8009cc",
   "metadata": {},
   "source": [
    "6. If a blank input is entered three times, what does inputStr(limit=3) do?\n",
    "If the user enters blank input for 3 times to the inputStr, limit =3 cause the function to raise a RetryLimitException"
   ]
  },
  {
   "cell_type": "markdown",
   "id": "505511dd",
   "metadata": {},
   "source": [
    "7. If blank input is entered three times, what does inputStr(limit=3, default='hello') do?\n",
    "If a blank input is entered three times with a limit of 3 ,the  default value \"hello\" is returned instead of exception."
   ]
  }
 ],
 "metadata": {
  "kernelspec": {
   "display_name": "Python 3 (ipykernel)",
   "language": "python",
   "name": "python3"
  },
  "language_info": {
   "codemirror_mode": {
    "name": "ipython",
    "version": 3
   },
   "file_extension": ".py",
   "mimetype": "text/x-python",
   "name": "python",
   "nbconvert_exporter": "python",
   "pygments_lexer": "ipython3",
   "version": "3.9.7"
  }
 },
 "nbformat": 4,
 "nbformat_minor": 5
}
